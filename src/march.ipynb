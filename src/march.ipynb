{
 "cells": [
  {
   "metadata": {},
   "cell_type": "code",
   "outputs": [],
   "execution_count": null,
   "source": [
    "import torch\n",
    "import torch.nn as nn\n",
    "from torchvision import models\n",
    "\n",
    "num_items = 4\n",
    "\n",
    "class OutfitClassifier(nn.Module):\n",
    "    def __init__(self):\n",
    "        super(OutfitClassifier, self).__init__()\n",
    "        self.resnet = models.resnet50(pretrained=True)\n",
    "        self.resnet.fc = nn.Identity()  # Remove the last layer\n",
    "        self.mlp = nn.Sequential(\n",
    "            nn.Linear(2048 * num_items, 128),  # num_items is the number of clothing items in an outfit\n",
    "            nn.ReLU(),\n",
    "            nn.Dropout(0.5),\n",
    "            nn.Linear(128, 2)  # Binary output for good/bad classification\n",
    "        )\n",
    "\n",
    "    def forward(self, x):\n",
    "        # Assuming x is a list of images for each item in the outfit\n",
    "        features = []\n",
    "        for item in x:\n",
    "            feature = self.resnet(item)\n",
    "            features.append(feature)\n",
    "        features = torch.cat(features, dim=1)  # Concatenate features\n",
    "        output = self.mlp(features)\n",
    "        return output\n",
    "\n",
    "# Initialize model, optimizer, and loss function\n",
    "model = OutfitClassifier()\n",
    "optimizer = torch.optim.Adam(model.parameters(), lr=0.001)\n",
    "loss_fn = nn.CrossEntropyLoss()\n",
    "\n",
    "# Training loop\n",
    "for epoch in range(num_epochs):\n",
    "    for batch in train_loader:\n",
    "        inputs, labels = batch\n",
    "        optimizer.zero_grad()\n",
    "        outputs = model(inputs)\n",
    "        loss = loss_fn(outputs, labels)\n",
    "        loss.backward()\n",
    "        optimizer.step()\n"
   ],
   "id": "87d962bda9dc172"
  }
 ],
 "metadata": {
  "kernelspec": {
   "display_name": "Python 3",
   "language": "python",
   "name": "python3"
  },
  "language_info": {
   "codemirror_mode": {
    "name": "ipython",
    "version": 2
   },
   "file_extension": ".py",
   "mimetype": "text/x-python",
   "name": "python",
   "nbconvert_exporter": "python",
   "pygments_lexer": "ipython2",
   "version": "2.7.6"
  }
 },
 "nbformat": 4,
 "nbformat_minor": 5
}
