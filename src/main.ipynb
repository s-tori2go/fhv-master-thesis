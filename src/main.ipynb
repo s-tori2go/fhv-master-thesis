{
 "cells": [
  {
   "metadata": {},
   "cell_type": "code",
   "outputs": [],
   "execution_count": null,
   "source": [
    "# Imports\n",
    "# Data Collection Module (1a)\n",
    "# Data Preparation Module (2)"
   ],
   "id": "11d61c9c5da8345c"
  },
  {
   "metadata": {},
   "cell_type": "code",
   "outputs": [],
   "execution_count": null,
   "source": "# Outfit Generation and Visualisation Module (1b)",
   "id": "31ccc3d33f206d2"
  },
  {
   "metadata": {},
   "cell_type": "code",
   "outputs": [],
   "execution_count": null,
   "source": [
    "# Feature Extraction Module (3)\n",
    "# Create features and target variables\n",
    "\n",
    "# Feature Processing Module (3)\n",
    "\n",
    "# Aesthetic Scoring Module (4)\n"
   ],
   "id": "c9a00342fc100f66"
  },
  {
   "metadata": {},
   "cell_type": "code",
   "outputs": [],
   "execution_count": null,
   "source": [
    "import torch\n",
    "import torch.nn as nn\n",
    "from torchvision import models\n",
    "\n",
    "class Discriminator(nn.Module):\n",
    "    def __init__(self):\n",
    "        super(Discriminator, self).__init__()\n",
    "        self.feature_extractor = models.resnet50(pretrained=True)\n",
    "        self.feature_extractor.fc = nn.Identity()  # Remove the last layer\n",
    "        self.feature_processor = nn.Sequential(\n",
    "            nn.Linear(2048, 128),  # Assuming ResNet-50 output is 2048\n",
    "            nn.ReLU(),\n",
    "            nn.Linear(128, 64),\n",
    "            nn.ReLU()\n",
    "        )\n",
    "        self.aesthetic_scorer = nn.Sequential(\n",
    "            nn.Linear(64, 1),\n",
    "            nn.Sigmoid()  # Output between 0 and 1\n",
    "        )\n",
    "\n",
    "    def forward(self, x):\n",
    "        features = self.feature_extractor(x)\n",
    "        processed_features = self.feature_processor(features)\n",
    "        score = self.aesthetic_scorer(processed_features)\n",
    "        return score\n",
    "\n",
    "# Initialize model, optimizer, and loss function\n",
    "model = Discriminator()\n",
    "optimizer = torch.optim.Adam(model.parameters(), lr=0.001)\n",
    "loss_fn = nn.MSELoss()  # For regression tasks\n",
    "\n",
    "# Training loop\n",
    "for epoch in range(num_epochs):\n",
    "    for batch in train_loader:\n",
    "        inputs, labels = batch\n",
    "        optimizer.zero_grad()\n",
    "        outputs = model(inputs)\n",
    "        loss = loss_fn(outputs, labels)\n",
    "        loss.backward()\n",
    "        optimizer.step()\n"
   ],
   "id": "87d962bda9dc172"
  }
 ],
 "metadata": {
  "kernelspec": {
   "display_name": "Python 3",
   "language": "python",
   "name": "python3"
  },
  "language_info": {
   "codemirror_mode": {
    "name": "ipython",
    "version": 2
   },
   "file_extension": ".py",
   "mimetype": "text/x-python",
   "name": "python",
   "nbconvert_exporter": "python",
   "pygments_lexer": "ipython2",
   "version": "2.7.6"
  }
 },
 "nbformat": 4,
 "nbformat_minor": 5
}
